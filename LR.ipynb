{
 "cells": [
  {
   "cell_type": "code",
   "execution_count": 1,
   "metadata": {},
   "outputs": [],
   "source": [
    "# Import some package \n",
    "import torch\n",
    "import torchvision\n",
    "import torch.nn as tn\n",
    "import matplotlib.pyplot as plt\n",
    "import torchvision.transforms as tt\n",
    "import torch.utils as utils"
   ]
  },
  {
   "cell_type": "code",
   "execution_count": 2,
   "metadata": {},
   "outputs": [
    {
     "name": "stdout",
     "output_type": "stream",
     "text": [
      "Downloading http://yann.lecun.com/exdb/mnist/train-images-idx3-ubyte.gz\n",
      "Downloading http://yann.lecun.com/exdb/mnist/train-images-idx3-ubyte.gz to ./data/MNIST/raw/train-images-idx3-ubyte.gz\n"
     ]
    },
    {
     "name": "stderr",
     "output_type": "stream",
     "text": [
      "100%|██████████| 9912422/9912422 [00:02<00:00, 4778471.91it/s] \n"
     ]
    },
    {
     "name": "stdout",
     "output_type": "stream",
     "text": [
      "Extracting ./data/MNIST/raw/train-images-idx3-ubyte.gz to ./data/MNIST/raw\n",
      "\n",
      "Downloading http://yann.lecun.com/exdb/mnist/train-labels-idx1-ubyte.gz\n",
      "Downloading http://yann.lecun.com/exdb/mnist/train-labels-idx1-ubyte.gz to ./data/MNIST/raw/train-labels-idx1-ubyte.gz\n"
     ]
    },
    {
     "name": "stderr",
     "output_type": "stream",
     "text": [
      "100%|██████████| 28881/28881 [00:00<00:00, 1123884.97it/s]\n"
     ]
    },
    {
     "name": "stdout",
     "output_type": "stream",
     "text": [
      "Extracting ./data/MNIST/raw/train-labels-idx1-ubyte.gz to ./data/MNIST/raw\n",
      "\n",
      "Downloading http://yann.lecun.com/exdb/mnist/t10k-images-idx3-ubyte.gz\n",
      "Downloading http://yann.lecun.com/exdb/mnist/t10k-images-idx3-ubyte.gz to ./data/MNIST/raw/t10k-images-idx3-ubyte.gz\n"
     ]
    },
    {
     "name": "stderr",
     "output_type": "stream",
     "text": [
      "100%|██████████| 1648877/1648877 [00:01<00:00, 1248500.30it/s]\n"
     ]
    },
    {
     "name": "stdout",
     "output_type": "stream",
     "text": [
      "Extracting ./data/MNIST/raw/t10k-images-idx3-ubyte.gz to ./data/MNIST/raw\n",
      "\n",
      "Downloading http://yann.lecun.com/exdb/mnist/t10k-labels-idx1-ubyte.gz\n",
      "Downloading http://yann.lecun.com/exdb/mnist/t10k-labels-idx1-ubyte.gz to ./data/MNIST/raw/t10k-labels-idx1-ubyte.gz\n"
     ]
    },
    {
     "name": "stderr",
     "output_type": "stream",
     "text": [
      "100%|██████████| 4542/4542 [00:00<00:00, 43494357.92it/s]"
     ]
    },
    {
     "name": "stdout",
     "output_type": "stream",
     "text": [
      "Extracting ./data/MNIST/raw/t10k-labels-idx1-ubyte.gz to ./data/MNIST/raw\n",
      "\n",
      "Dataset MNIST\n",
      "    Number of datapoints: 60000\n",
      "    Root location: ./data\n",
      "    Split: Train\n",
      "Dataset MNIST\n",
      "    Number of datapoints: 10000\n",
      "    Root location: data\n",
      "    Split: Test\n"
     ]
    },
    {
     "name": "stderr",
     "output_type": "stream",
     "text": [
      "\n"
     ]
    }
   ],
   "source": [
    "train_data = torchvision.datasets.MNIST('./data',download=True)\n",
    "test_data = torchvision.datasets.MNIST('data',train=False)\n",
    "print(train_data)\n",
    "print(test_data)"
   ]
  },
  {
   "cell_type": "code",
   "execution_count": 3,
   "metadata": {},
   "outputs": [
    {
     "data": {
      "text/plain": [
       "Text(0.5, 1.0, 'Label of Image:0')"
      ]
     },
     "execution_count": 3,
     "metadata": {},
     "output_type": "execute_result"
    },
    {
     "data": {
      "image/png": "[encoded data removed]",
      "text/plain": [
       "<Figure size 640x480 with 2 Axes>"
      ]
     },
     "metadata": {},
     "output_type": "display_data"
    }
   ],
   "source": [
    "import matplotlib.pyplot as plt\n",
    "  \n",
    "plt.subplot(1,2,1)\n",
    "image, label = train_data[0]\n",
    "plt.imshow(image, cmap='gray')\n",
    "plt.title(\"Label of Image:{}\".format(label),fontsize=20)\n",
    "plt.subplot(1,2,2)\n",
    "image, label = train_data[1]\n",
    "plt.imshow(image, cmap='gray')\n",
    "plt.title(\"Label of Image:{}\".format(label),fontsize=20)"
   ]
  },
  {
   "cell_type": "code",
   "execution_count": 4,
   "metadata": {},
   "outputs": [],
   "source": [
    "train_data = torchvision.datasets.MNIST('data',train=True,transform=tt.ToTensor())\n",
    "test_data = torchvision.datasets.MNIST('data',train=False,transform=tt.ToTensor()) "
   ]
  },
  {
   "cell_type": "code",
   "execution_count": 5,
   "metadata": {},
   "outputs": [],
   "source": [
    "# Arguments Required\n",
    "input_size = 28*28  #Size of image\n",
    "\n",
    "num_classes = 10  #the image number are in range 0-10\n",
    "\n",
    "num_epochs = 5 #one cycle through the full train data\n",
    "\n",
    "batch_size = 100 #sample size consider before updating the model’s weights\n",
    "\n",
    "learning_rate = 0.001  #step size to update parameter"
   ]
  },
  {
   "cell_type": "code",
   "execution_count": 6,
   "metadata": {},
   "outputs": [],
   "source": [
    "train_dataLoader = torch.utils.data.DataLoader(train_data, batch_size=batch_size,shuffle=True)\n",
    "test_dataLoader = torch.utils.data.DataLoader(test_data,batch_size=batch_size,shuffle=False)"
   ]
  },
  {
   "cell_type": "code",
   "execution_count": 7,
   "metadata": {},
   "outputs": [],
   "source": [
    "class LogisticRegression(tn.Module):\n",
    "    def __init__(self,input_size,num_classes):\n",
    "        super(LogisticRegression,self).__init__()\n",
    "        self.linear = tn.Linear(input_size,num_classes)\n",
    "    \n",
    "    def forward(self,feature):\n",
    "        output = self.linear(feature)\n",
    "        return output"
   ]
  },
  {
   "cell_type": "code",
   "execution_count": 8,
   "metadata": {},
   "outputs": [],
   "source": [
    "model = LogisticRegression(input_size,num_classes)\n",
    "loss = tn.CrossEntropyLoss()\n",
    "optimizer = torch.optim.SGD(model.parameters(),lr=learning_rate)"
   ]
  },
  {
   "cell_type": "code",
   "execution_count": 9,
   "metadata": {},
   "outputs": [
    {
     "name": "stdout",
     "output_type": "stream",
     "text": [
      "Iteration: 200. Loss: 2.087371587753296. Accuracy: 36.939998626708984\n",
      "Iteration: 400. Loss: 1.9244259595870972. Accuracy: 62.16999816894531\n",
      "Iteration: 600. Loss: 1.7469160556793213. Accuracy: 70.04000091552734\n",
      "Iteration: 800. Loss: 1.6654170751571655. Accuracy: 73.76000213623047\n",
      "Iteration: 1000. Loss: 1.612280011177063. Accuracy: 75.83999633789062\n",
      "Iteration: 1200. Loss: 1.4456595182418823. Accuracy: 77.16999816894531\n",
      "Iteration: 1400. Loss: 1.3338619470596313. Accuracy: 78.62000274658203\n",
      "Iteration: 1600. Loss: 1.2289304733276367. Accuracy: 79.62000274658203\n",
      "Iteration: 1800. Loss: 1.3216710090637207. Accuracy: 80.33999633789062\n",
      "Iteration: 2000. Loss: 1.1157909631729126. Accuracy: 81.19000244140625\n",
      "Iteration: 2200. Loss: 1.1493514776229858. Accuracy: 81.61000061035156\n",
      "Iteration: 2400. Loss: 1.0938267707824707. Accuracy: 82.19999694824219\n",
      "Iteration: 2600. Loss: 0.9956242442131042. Accuracy: 82.45999908447266\n",
      "Iteration: 2800. Loss: 1.1061732769012451. Accuracy: 82.80999755859375\n",
      "Iteration: 3000. Loss: 1.048658847808838. Accuracy: 83.08000183105469\n",
      "Final Accuracy: tensor(83.0800)\n"
     ]
    }
   ],
   "source": [
    "run = 0\n",
    "for epoch in range(num_epochs):\n",
    "    for i,(images,labels) in enumerate(train_dataLoader):\n",
    "        images = torch.autograd.Variable(images.view(-1,input_size))\n",
    "        labels = torch.autograd.Variable(labels)\n",
    "        \n",
    "        # Nullify gradients w.r.t. parameters\n",
    "        optimizer.zero_grad()\n",
    "        #forward propagation\n",
    "        output = model(images)\n",
    "        # compute loss based on obtained value and actual label\n",
    "        compute_loss = loss(output,labels)\n",
    "        # backward propagation\n",
    "        compute_loss.backward()\n",
    "        # update the parameters\n",
    "        optimizer.step()\n",
    "        run+=1\n",
    "        \n",
    "        if (i+1)%200 == 0:\n",
    "            # check total accuracy of predicted value and actual label\n",
    "            accurate = 0\n",
    "            total = 0\n",
    "            for images,labels in test_dataLoader:\n",
    "                images = torch.autograd.Variable(images.view(-1,input_size))\n",
    "                output = model(images)\n",
    "                _,predicted = torch.max(output.data, 1)\n",
    "                # total labels\n",
    "                total+= labels.size(0)\n",
    "                \n",
    "                # Total correct predictions\n",
    "                accurate+= (predicted == labels).sum()\n",
    "                accuracy_score = 100 * accurate/total\n",
    "            \n",
    "            print('Iteration: {}. Loss: {}. Accuracy: {}'.format(run, compute_loss.item(), accuracy_score))\n",
    "\n",
    "print('Final Accuracy:',accuracy_score)\n"
   ]
  }
 ],
 "metadata": {
  "kernelspec": {
   "display_name": "AI_env",
   "language": "python",
   "name": "python3"
  },
  "language_info": {
   "codemirror_mode": {
    "name": "ipython",
    "version": 3
   },
   "file_extension": ".py",
   "mimetype": "text/x-python",
   "name": "python",
   "nbconvert_exporter": "python",
   "pygments_lexer": "ipython3",
   "version": "3.11.3"
  },
  "orig_nbformat": 4
 },
 "nbformat": 4,
 "nbformat_minor": 2
}
